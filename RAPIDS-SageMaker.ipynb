{
 "cells": [
  {
   "cell_type": "markdown",
   "id": "b59f36ab-690a-4bac-adf9-7fd93534f404",
   "metadata": {
    "tags": []
   },
   "source": [
    "# Getting Started with RAPIDS on SageMaker Studio\n",
    "\n",
    "So you want to run RAPIDS on SageMaker?  Well, here's a great entry point.  Below, you will see a section on\n",
    "1. **Installing RAPIDS**- installation scripts\n",
    "1. **Links to Notebooks**- that you can quickly import into to SageMaker and run\n",
    "1. **Tips and Tricks**- Get the most out of your RAPIDS + SageMaker Expereince\n",
    "\n",
    "Please Github Clone the entire CSP-Utils Repo so that you can pull the latest source of this page and keep it update.  RAPIDS versions do change, as will the install script.  New Tips and Tricks also will be added as they are discovered.\n",
    "\n",
    "____\n",
    "\n",
    "## Installing RAPIDS\n",
    "\n",
    "One of the cool things about SageMaker is that your instance is persistant, so what you install today will keep going until you delete it.  It will be like using a docker container.  That means that you will only need to run the install script ONCE per RAPIDS Stable release.  With Nightlies, you will download and install on every release that you want to run.  \n",
    "\n",
    "The install scripts are below:\n",
    "\n",
    "### RAPIDS Stable (22.02)\n",
    "Execute the Cell below to Install RAPIDS.  Only required ONCE per release"
   ]
  },
  {
   "cell_type": "code",
   "execution_count": null,
   "id": "8aacd4e0-1dcc-4f21-a279-57f8a25e2aec",
   "metadata": {},
   "outputs": [],
   "source": [
    "%conda create -n rapids-22.02 -c rapidsai -c nvidia -c conda-forge rapids=22.02 python=3.8 cudatoolkit=11.4 dask-sql ipykernel -y"
   ]
  },
  {
   "cell_type": "markdown",
   "id": "cb1abd97-0072-4d26-b36b-cc9522ccb685",
   "metadata": {},
   "source": [
    "### RAPIDS Nightly (22.04)\n",
    "Execute the Cell below to Install RAPIDS Nightly. Required as you want to try out an updated library"
   ]
  },
  {
   "cell_type": "code",
   "execution_count": null,
   "id": "ffb0bf78-94ff-40b8-9686-f5f8d525d358",
   "metadata": {},
   "outputs": [],
   "source": [
    "%conda create -n rapids-22.04-nightly -c rapidsai-nightly -c nvidia -c conda-forge rapids=22.04 python=3.8 cudatoolkit=11.4 dask-sql ipykernel -y"
   ]
  },
  {
   "cell_type": "markdown",
   "id": "9ce351c5-2360-4940-a1c7-517715b7bdc5",
   "metadata": {
    "jp-MarkdownHeadingCollapsed": true,
    "tags": []
   },
   "source": [
    "____\n",
    "\n",
    "## Links to Notebooks\n",
    "Now that you've installed RAPIDS into SageMaker, you will have some new kernel options when you open a notebook.  Please select a notebook from the list.  You may clone the entire repo, but please remember your 15GB data limits apply!:\n",
    "\n",
    "### Great Notebooks to help you get started\n",
    "    \n",
    "* [![Open in SageMaker Studio Lab](https://studiolab.sagemaker.aws/studiolab.svg)](https://studiolab.sagemaker.aws/import/github/rapidsai-community/notebooks-contrib/blob/main/getting_started_materials/intro_tutorials_and_guides/01_Introduction_to_RAPIDS.ipynb) Intro to RAPIDS Notebook #1\n",
    "\n",
    "* [![Open in SageMaker Studio Lab](https://studiolab.sagemaker.aws/studiolab.svg)](https://studiolab.sagemaker.aws/import/github/rapidsai/cudf/blob/branch-22.04/docs/cudf/source/user_guide/10min.ipynb) 10 Minutes to cuDF and Dask cuDF\n",
    "\n",
    "* [![Open in SageMaker Studio Lab](https://studiolab.sagemaker.aws/studiolab.svg)](https://studiolab.sagemaker.aws/import/github/rapidsai/cuml/blob/branch-22.02/docs/source/estimator_intro.ipynb) Training and Evaluating Machine Learning Models in cuML\n",
    "\n",
    "* [![Open in SageMaker Studio Lab](https://studiolab.sagemaker.aws/studiolab.svg)](https://studiolab.sagemaker.aws/import/github/rapidsai/cuxfilter/blob/branch-22.02/docs/source/10_minutes_to_cuxfilter.ipynb) 10 Minutes to cuXFilter\n",
    "\n",
    "* [![Open in SageMaker Studio Lab](https://studiolab.sagemaker.aws/studiolab.svg)](https://studiolab.sagemaker.aws/import/github/rapidsai-community/notebooks-contrib/blob/main/getting_started_materials/hello_worlds/dask-sql/getting_started_with_dasksql.ipynb) Getting Start with RAPIDS and Dask-SQL\n",
    "\n",
    "### Great Repos to Clone to help you go forward\n",
    "\n",
    "#### General Repos\n",
    "\n",
    "* [RAPIDSAI Community Notebooks(RAPIDSAI/Community)](https://github.com/rapidsai-community/notebooks-contrib)\n",
    "* [LearnRAPIDS Multi-GPU Mini Tour (Community)](https://github.com/RAPIDSAcademy/rapidsacademy)\n",
    "\n",
    "#### RAPIDS and Deep Learning \n",
    "\n",
    "* [Official RAPIDSAI Deep Learning Repo (RAPIDSAI)](https://github.com/rapidsai/deeplearning)\n",
    "* [GPU Hackthons RAPIDS + Deep Learning Crash Course (NVIDIA)](https://github.com/gpuhackathons-org/gpubootcamp/blob/master/ai/RAPIDS/)\n",
    "\n",
    "#### Finacial Analytics\n",
    "\n",
    "* [NVIDIA FSI Examples (NVIDIA)](https://github.com/NVIDIA/fsi-samples)\n",
    "\n",
    "____\n",
    "\n",
    "## Tips and Tricks\n",
    "\n",
    "### Official RAPIDS Cheat Sheets\n",
    "\n",
    "* [cuDF Cheat Sheet (PDF Download)](https://forums.developer.nvidia.com/uploads/short-url/mIndAvHNud3UXeWwC7Ore3d021D.pdf)\n",
    "* [cuGraph Cheat Sheet (PDF Download)](https://forums.developer.nvidia.com/uploads/short-url/kIbMG6LZjFfLFibbyqvVl2XcSbB.pdf)\n",
    "* [RAPIDS-Dask Cheat Sheet (PDF Download)](https://forums.developer.nvidia.com/uploads/short-url/xiN07MC8FSHsXS6lekxSaY1CWs4.pdf)\n",
    "* [CLX and cyBert Cheat Sheet (PDF Download)](https://forums.developer.nvidia.com/uploads/short-url/edzS5WizVTYZMWRtTl3AqHI5AL4.pdf)\n",
    "* [cuSignal Cheat Sheet (PDF Download)](https://forums.developer.nvidia.com/uploads/short-url/hkh6vQ2rzl6mAHL8Vt0CYhctark.pdf)\n",
    "\n",
    "### \n",
    "\n",
    "### SageMaker Conda Tips\n",
    "\n",
    "* If you accidentally breck a conda instance: Rollback!\n",
    "* If you have an example that you'd like to share with a specifc Environment, \n",
    "  * run: `!conda env export > environment.yml`\n",
    "  * make a new repo with the notebook\n",
    "  * put `environment.yml` in the root of your repo\n",
    "  * instruct people to import the envinroment file when cloning\n"
   ]
  },
  {
   "cell_type": "code",
   "execution_count": null,
   "id": "f239b6eb-72a8-47b3-80a3-32a29eb4c3cf",
   "metadata": {},
   "outputs": [],
   "source": []
  }
 ],
 "metadata": {
  "kernelspec": {
   "display_name": "default:Python",
   "language": "python",
   "name": "conda-env-default-py"
  },
  "language_info": {
   "codemirror_mode": {
    "name": "ipython",
    "version": 3
   },
   "file_extension": ".py",
   "mimetype": "text/x-python",
   "name": "python",
   "nbconvert_exporter": "python",
   "pygments_lexer": "ipython3",
   "version": "3.9.7"
  }
 },
 "nbformat": 4,
 "nbformat_minor": 5
}
